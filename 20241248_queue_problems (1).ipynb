{
 "cells": [
  {
   "cell_type": "markdown",
   "id": "68c8934e",
   "metadata": {},
   "source": [
    "# LeetCode 225. Implement Stack using Queues"
   ]
  },
  {
   "cell_type": "code",
   "execution_count": null,
   "id": "1d85b26f",
   "metadata": {},
   "outputs": [],
   "source": [
    "from collections import deque\n",
    "\n",
    "class MyStack:\n",
    "\n",
    "    def __init__(self):\n",
    "        self.q = deque()\n",
    "\n",
    "    def push(self, x: int) -> None:\n",
    "        self.q.append(x)\n",
    "        # 맨 마지막에 들어온 요소가 맨 앞으로 오도록 회전\n",
    "        for _ in range(len(self.q) - 1):\n",
    "            self.q.append(self.q.popleft())\n",
    "\n",
    "    def pop(self) -> int:\n",
    "        return self.q.popleft()\n",
    "\n",
    "    def top(self) -> int:\n",
    "        return self.q[0]\n",
    "\n",
    "    def empty(self) -> bool:\n",
    "        return not self.q"
   ]
  },
  {
   "cell_type": "markdown",
   "id": "e705af25",
   "metadata": {},
   "source": [
    "### 📝 풀이 설명\n",
    "큐는 FIFO(First-In-First-Out) 구조지만, 스택은 LIFO 구조입니다. `push`할 때 요소를 큐에 넣고, 기존 요소들을 다시 넣어서 순서를 바꾸면 큐의 맨 앞이 스택의 top처럼 동작합니다."
   ]
  },
  {
   "cell_type": "markdown",
   "id": "b90d35f1",
   "metadata": {},
   "source": [
    "# LeetCode 232. Implement Queue using Stacks"
   ]
  },
  {
   "cell_type": "code",
   "execution_count": null,
   "id": "f98253dc",
   "metadata": {},
   "outputs": [],
   "source": [
    "class MyQueue:\n",
    "\n",
    "    def __init__(self):\n",
    "        self.stack_in = []\n",
    "        self.stack_out = []\n",
    "\n",
    "    def push(self, x: int) -> None:\n",
    "        self.stack_in.append(x)\n",
    "\n",
    "    def pop(self) -> int:\n",
    "        self.move()\n",
    "        return self.stack_out.pop()\n",
    "\n",
    "    def peek(self) -> int:\n",
    "        self.move()\n",
    "        return self.stack_out[-1]\n",
    "\n",
    "    def empty(self) -> bool:\n",
    "        return not self.stack_in and not self.stack_out\n",
    "\n",
    "    def move(self):\n",
    "        if not self.stack_out:\n",
    "            while self.stack_in:\n",
    "                self.stack_out.append(self.stack_in.pop())"
   ]
  },
  {
   "cell_type": "markdown",
   "id": "e74f8a83",
   "metadata": {},
   "source": [
    "### 📝 풀이 설명\n",
    "`stack_in`은 push 전용, `stack_out`은 pop/peek 전용입니다. `stack_out`이 비었을 때만 `stack_in`에서 모든 값을 pop해서 `stack_out`에 넣으면 원래 순서가 유지된 큐처럼 작동합니다."
   ]
  },
  {
   "cell_type": "markdown",
   "id": "0ce7b7c3",
   "metadata": {},
   "source": [
    "# 교재 큐 연습문제"
   ]
  },
  {
   "cell_type": "code",
   "execution_count": null,
   "id": "5324143e",
   "metadata": {},
   "outputs": [],
   "source": [
    "# 여기에 교재 큐 연습문제 풀이 코드를 작성하세요.\n",
    "# 예시:\n",
    "# from collections import deque\n",
    "# q = deque()\n",
    "# q.append(1)\n",
    "# q.popleft()"
   ]
  },
  {
   "cell_type": "markdown",
   "id": "c8aed3f4",
   "metadata": {},
   "source": [
    "### 📝 풀이 설명\n",
    "이 셀에 교재 연습문제 풀이에 대한 설명을 작성하세요."
   ]
  }
 ],
 "metadata": {},
 "nbformat": 4,
 "nbformat_minor": 5
}
